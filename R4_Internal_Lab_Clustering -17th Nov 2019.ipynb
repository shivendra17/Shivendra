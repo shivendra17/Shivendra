{
 "cells": [
  {
   "cell_type": "markdown",
   "metadata": {},
   "source": [
    "### The data set has information about features of silhouette extracted from the images of different cars\n",
    "\n",
    "Four \"Corgie\" model vehicles were used for the experiment: a double decker bus, Cheverolet van, Saab 9000 and an Opel Manta 400 cars. This particular combination of vehicles was chosen with the expectation that the bus, van and either one of the cars would be readily distinguishable, but it would be more difficult to distinguish between the cars.\n",
    "\n"
   ]
  },
  {
   "cell_type": "code",
   "execution_count": 1,
   "metadata": {},
   "outputs": [],
   "source": [
    "import warnings\n",
    "warnings.filterwarnings('ignore')"
   ]
  },
  {
   "cell_type": "markdown",
   "metadata": {},
   "source": [
    "### 1. Read the dataset using function .dropna() - to avoid dealing with NAs as of now"
   ]
  },
  {
   "cell_type": "code",
   "execution_count": 4,
   "metadata": {},
   "outputs": [],
   "source": [
    "import pandas as pd\n",
    "df = pd.read_csv('vehicle.csv')"
   ]
  },
  {
   "cell_type": "code",
   "execution_count": 6,
   "metadata": {},
   "outputs": [],
   "source": [
    "df.dropna(inplace=True)"
   ]
  },
  {
   "cell_type": "code",
   "execution_count": 8,
   "metadata": {},
   "outputs": [
    {
     "data": {
      "text/plain": [
       "compactness                    0\n",
       "circularity                    0\n",
       "distance_circularity           0\n",
       "radius_ratio                   0\n",
       "pr.axis_aspect_ratio           0\n",
       "max.length_aspect_ratio        0\n",
       "scatter_ratio                  0\n",
       "elongatedness                  0\n",
       "pr.axis_rectangularity         0\n",
       "max.length_rectangularity      0\n",
       "scaled_variance                0\n",
       "scaled_variance.1              0\n",
       "scaled_radius_of_gyration      0\n",
       "scaled_radius_of_gyration.1    0\n",
       "skewness_about                 0\n",
       "skewness_about.1               0\n",
       "skewness_about.2               0\n",
       "hollows_ratio                  0\n",
       "class                          0\n",
       "dtype: int64"
      ]
     },
     "execution_count": 8,
     "metadata": {},
     "output_type": "execute_result"
    }
   ],
   "source": [
    "df.isna().sum()"
   ]
  },
  {
   "cell_type": "code",
   "execution_count": 9,
   "metadata": {},
   "outputs": [
    {
     "name": "stdout",
     "output_type": "stream",
     "text": [
      "<class 'pandas.core.frame.DataFrame'>\n",
      "Int64Index: 813 entries, 0 to 845\n",
      "Data columns (total 19 columns):\n",
      "compactness                    813 non-null int64\n",
      "circularity                    813 non-null float64\n",
      "distance_circularity           813 non-null float64\n",
      "radius_ratio                   813 non-null float64\n",
      "pr.axis_aspect_ratio           813 non-null float64\n",
      "max.length_aspect_ratio        813 non-null int64\n",
      "scatter_ratio                  813 non-null float64\n",
      "elongatedness                  813 non-null float64\n",
      "pr.axis_rectangularity         813 non-null float64\n",
      "max.length_rectangularity      813 non-null int64\n",
      "scaled_variance                813 non-null float64\n",
      "scaled_variance.1              813 non-null float64\n",
      "scaled_radius_of_gyration      813 non-null float64\n",
      "scaled_radius_of_gyration.1    813 non-null float64\n",
      "skewness_about                 813 non-null float64\n",
      "skewness_about.1               813 non-null float64\n",
      "skewness_about.2               813 non-null float64\n",
      "hollows_ratio                  813 non-null int64\n",
      "class                          813 non-null object\n",
      "dtypes: float64(14), int64(4), object(1)\n",
      "memory usage: 127.0+ KB\n"
     ]
    }
   ],
   "source": [
    "df.info()"
   ]
  },
  {
   "cell_type": "markdown",
   "metadata": {},
   "source": [
    "### 2. Print/ Plot the dependent (categorical variable) - Class column"
   ]
  },
  {
   "cell_type": "markdown",
   "metadata": {},
   "source": [
    "Since the variable is categorical, you can use value_counts function"
   ]
  },
  {
   "cell_type": "code",
   "execution_count": 14,
   "metadata": {},
   "outputs": [],
   "source": [
    "%matplotlib inline\n",
    "import seaborn as sns\n",
    "import matplotlib.pyplot as plt"
   ]
  },
  {
   "cell_type": "code",
   "execution_count": 15,
   "metadata": {},
   "outputs": [
    {
     "data": {
      "text/plain": [
       "car    413\n",
       "bus    205\n",
       "van    195\n",
       "Name: class, dtype: int64"
      ]
     },
     "execution_count": 15,
     "metadata": {},
     "output_type": "execute_result"
    }
   ],
   "source": [
    "df['class'].value_counts()"
   ]
  },
  {
   "cell_type": "code",
   "execution_count": 17,
   "metadata": {},
   "outputs": [
    {
     "data": {
      "text/plain": [
       "<seaborn.axisgrid.FacetGrid at 0x22da927ac50>"
      ]
     },
     "execution_count": 17,
     "metadata": {},
     "output_type": "execute_result"
    },
    {
     "data": {
      "image/png": "[encoded data removed]",
      "text/plain": [
       "<Figure size 360x360 with 1 Axes>"
      ]
     },
     "metadata": {
      "needs_background": "light"
     },
     "output_type": "display_data"
    }
   ],
   "source": [
    "sns.catplot(x='class', kind= 'count', data=df)"
   ]
  },
  {
   "cell_type": "code",
   "execution_count": null,
   "metadata": {},
   "outputs": [],
   "source": []
  },
  {
   "cell_type": "markdown",
   "metadata": {},
   "source": [
    "### Check for any missing values in the data "
   ]
  },
  {
   "cell_type": "code",
   "execution_count": 18,
   "metadata": {},
   "outputs": [
    {
     "data": {
      "text/plain": [
       "compactness                    0\n",
       "circularity                    0\n",
       "distance_circularity           0\n",
       "radius_ratio                   0\n",
       "pr.axis_aspect_ratio           0\n",
       "max.length_aspect_ratio        0\n",
       "scatter_ratio                  0\n",
       "elongatedness                  0\n",
       "pr.axis_rectangularity         0\n",
       "max.length_rectangularity      0\n",
       "scaled_variance                0\n",
       "scaled_variance.1              0\n",
       "scaled_radius_of_gyration      0\n",
       "scaled_radius_of_gyration.1    0\n",
       "skewness_about                 0\n",
       "skewness_about.1               0\n",
       "skewness_about.2               0\n",
       "hollows_ratio                  0\n",
       "class                          0\n",
       "dtype: int64"
      ]
     },
     "execution_count": 18,
     "metadata": {},
     "output_type": "execute_result"
    }
   ],
   "source": [
    "df.isna().sum()"
   ]
  },
  {
   "cell_type": "markdown",
   "metadata": {},
   "source": [
    "### 3. Standardize the data "
   ]
  },
  {
   "cell_type": "markdown",
   "metadata": {},
   "source": [
    "Since the dimensions of the data are not really known to us, it would be wise to standardize the data using z scores before we go for any clustering methods.\n",
    "You can use zscore function to do this"
   ]
  },
  {
   "cell_type": "code",
   "execution_count": 20,
   "metadata": {},
   "outputs": [],
   "source": [
    "from scipy.stats import zscore"
   ]
  },
  {
   "cell_type": "code",
   "execution_count": 21,
   "metadata": {},
   "outputs": [
    {
     "data": {
      "text/html": [
       "<div>\n",
       "<style scoped>\n",
       "    .dataframe tbody tr th:only-of-type {\n",
       "        vertical-align: middle;\n",
       "    }\n",
       "\n",
       "    .dataframe tbody tr th {\n",
       "        vertical-align: top;\n",
       "    }\n",
       "\n",
       "    .dataframe thead th {\n",
       "        text-align: right;\n",
       "    }\n",
       "</style>\n",
       "<table border=\"1\" class=\"dataframe\">\n",
       "  <thead>\n",
       "    <tr style=\"text-align: right;\">\n",
       "      <th></th>\n",
       "      <th>compactness</th>\n",
       "      <th>circularity</th>\n",
       "      <th>distance_circularity</th>\n",
       "      <th>radius_ratio</th>\n",
       "      <th>pr.axis_aspect_ratio</th>\n",
       "      <th>max.length_aspect_ratio</th>\n",
       "      <th>scatter_ratio</th>\n",
       "      <th>elongatedness</th>\n",
       "      <th>pr.axis_rectangularity</th>\n",
       "      <th>max.length_rectangularity</th>\n",
       "      <th>scaled_variance</th>\n",
       "      <th>scaled_variance.1</th>\n",
       "      <th>scaled_radius_of_gyration</th>\n",
       "      <th>scaled_radius_of_gyration.1</th>\n",
       "      <th>skewness_about</th>\n",
       "      <th>skewness_about.1</th>\n",
       "      <th>skewness_about.2</th>\n",
       "      <th>hollows_ratio</th>\n",
       "    </tr>\n",
       "  </thead>\n",
       "  <tbody>\n",
       "    <tr>\n",
       "      <th>0</th>\n",
       "      <td>95</td>\n",
       "      <td>48.0</td>\n",
       "      <td>83.0</td>\n",
       "      <td>178.0</td>\n",
       "      <td>72.0</td>\n",
       "      <td>10</td>\n",
       "      <td>162.0</td>\n",
       "      <td>42.0</td>\n",
       "      <td>20.0</td>\n",
       "      <td>159</td>\n",
       "      <td>176.0</td>\n",
       "      <td>379.0</td>\n",
       "      <td>184.0</td>\n",
       "      <td>70.0</td>\n",
       "      <td>6.0</td>\n",
       "      <td>16.0</td>\n",
       "      <td>187.0</td>\n",
       "      <td>197</td>\n",
       "    </tr>\n",
       "    <tr>\n",
       "      <th>1</th>\n",
       "      <td>91</td>\n",
       "      <td>41.0</td>\n",
       "      <td>84.0</td>\n",
       "      <td>141.0</td>\n",
       "      <td>57.0</td>\n",
       "      <td>9</td>\n",
       "      <td>149.0</td>\n",
       "      <td>45.0</td>\n",
       "      <td>19.0</td>\n",
       "      <td>143</td>\n",
       "      <td>170.0</td>\n",
       "      <td>330.0</td>\n",
       "      <td>158.0</td>\n",
       "      <td>72.0</td>\n",
       "      <td>9.0</td>\n",
       "      <td>14.0</td>\n",
       "      <td>189.0</td>\n",
       "      <td>199</td>\n",
       "    </tr>\n",
       "  </tbody>\n",
       "</table>\n",
       "</div>"
      ],
      "text/plain": [
       "   compactness  circularity  distance_circularity  radius_ratio  \\\n",
       "0           95         48.0                  83.0         178.0   \n",
       "1           91         41.0                  84.0         141.0   \n",
       "\n",
       "   pr.axis_aspect_ratio  max.length_aspect_ratio  scatter_ratio  \\\n",
       "0                  72.0                       10          162.0   \n",
       "1                  57.0                        9          149.0   \n",
       "\n",
       "   elongatedness  pr.axis_rectangularity  max.length_rectangularity  \\\n",
       "0           42.0                    20.0                        159   \n",
       "1           45.0                    19.0                        143   \n",
       "\n",
       "   scaled_variance  scaled_variance.1  scaled_radius_of_gyration  \\\n",
       "0            176.0              379.0                      184.0   \n",
       "1            170.0              330.0                      158.0   \n",
       "\n",
       "   scaled_radius_of_gyration.1  skewness_about  skewness_about.1  \\\n",
       "0                         70.0             6.0              16.0   \n",
       "1                         72.0             9.0              14.0   \n",
       "\n",
       "   skewness_about.2  hollows_ratio  \n",
       "0             187.0            197  \n",
       "1             189.0            199  "
      ]
     },
     "execution_count": 21,
     "metadata": {},
     "output_type": "execute_result"
    }
   ],
   "source": [
    "df1 = df.drop(columns='class', axis=1)\n",
    "df1.head(2)"
   ]
  },
  {
   "cell_type": "code",
   "execution_count": 28,
   "metadata": {},
   "outputs": [
    {
     "data": {
      "text/html": [
       "<div>\n",
       "<style scoped>\n",
       "    .dataframe tbody tr th:only-of-type {\n",
       "        vertical-align: middle;\n",
       "    }\n",
       "\n",
       "    .dataframe tbody tr th {\n",
       "        vertical-align: top;\n",
       "    }\n",
       "\n",
       "    .dataframe thead th {\n",
       "        text-align: right;\n",
       "    }\n",
       "</style>\n",
       "<table border=\"1\" class=\"dataframe\">\n",
       "  <thead>\n",
       "    <tr style=\"text-align: right;\">\n",
       "      <th></th>\n",
       "      <th>compactness</th>\n",
       "      <th>circularity</th>\n",
       "      <th>distance_circularity</th>\n",
       "      <th>radius_ratio</th>\n",
       "      <th>pr.axis_aspect_ratio</th>\n",
       "      <th>max.length_aspect_ratio</th>\n",
       "      <th>scatter_ratio</th>\n",
       "      <th>elongatedness</th>\n",
       "      <th>pr.axis_rectangularity</th>\n",
       "      <th>max.length_rectangularity</th>\n",
       "      <th>scaled_variance</th>\n",
       "      <th>scaled_variance.1</th>\n",
       "      <th>scaled_radius_of_gyration</th>\n",
       "      <th>scaled_radius_of_gyration.1</th>\n",
       "      <th>skewness_about</th>\n",
       "      <th>skewness_about.1</th>\n",
       "      <th>skewness_about.2</th>\n",
       "      <th>hollows_ratio</th>\n",
       "    </tr>\n",
       "  </thead>\n",
       "  <tbody>\n",
       "    <tr>\n",
       "      <th>0</th>\n",
       "      <td>0.163231</td>\n",
       "      <td>0.520408</td>\n",
       "      <td>0.060669</td>\n",
       "      <td>0.264970</td>\n",
       "      <td>1.283254</td>\n",
       "      <td>0.299721</td>\n",
       "      <td>-0.198517</td>\n",
       "      <td>0.129648</td>\n",
       "      <td>-0.217151</td>\n",
       "      <td>0.766312</td>\n",
       "      <td>-0.397397</td>\n",
       "      <td>-0.339014</td>\n",
       "      <td>0.301676</td>\n",
       "      <td>-0.321192</td>\n",
       "      <td>-0.071523</td>\n",
       "      <td>0.371287</td>\n",
       "      <td>-0.321809</td>\n",
       "      <td>0.171837</td>\n",
       "    </tr>\n",
       "    <tr>\n",
       "      <th>1</th>\n",
       "      <td>-0.322874</td>\n",
       "      <td>-0.619123</td>\n",
       "      <td>0.124067</td>\n",
       "      <td>-0.836393</td>\n",
       "      <td>-0.599253</td>\n",
       "      <td>0.085785</td>\n",
       "      <td>-0.591720</td>\n",
       "      <td>0.514333</td>\n",
       "      <td>-0.606014</td>\n",
       "      <td>-0.337462</td>\n",
       "      <td>-0.590034</td>\n",
       "      <td>-0.618754</td>\n",
       "      <td>-0.502972</td>\n",
       "      <td>-0.053505</td>\n",
       "      <td>0.538425</td>\n",
       "      <td>0.147109</td>\n",
       "      <td>0.003400</td>\n",
       "      <td>0.442318</td>\n",
       "    </tr>\n",
       "  </tbody>\n",
       "</table>\n",
       "</div>"
      ],
      "text/plain": [
       "   compactness  circularity  distance_circularity  radius_ratio  \\\n",
       "0     0.163231     0.520408              0.060669      0.264970   \n",
       "1    -0.322874    -0.619123              0.124067     -0.836393   \n",
       "\n",
       "   pr.axis_aspect_ratio  max.length_aspect_ratio  scatter_ratio  \\\n",
       "0              1.283254                 0.299721      -0.198517   \n",
       "1             -0.599253                 0.085785      -0.591720   \n",
       "\n",
       "   elongatedness  pr.axis_rectangularity  max.length_rectangularity  \\\n",
       "0       0.129648               -0.217151                   0.766312   \n",
       "1       0.514333               -0.606014                  -0.337462   \n",
       "\n",
       "   scaled_variance  scaled_variance.1  scaled_radius_of_gyration  \\\n",
       "0        -0.397397          -0.339014                   0.301676   \n",
       "1        -0.590034          -0.618754                  -0.502972   \n",
       "\n",
       "   scaled_radius_of_gyration.1  skewness_about  skewness_about.1  \\\n",
       "0                    -0.321192       -0.071523          0.371287   \n",
       "1                    -0.053505        0.538425          0.147109   \n",
       "\n",
       "   skewness_about.2  hollows_ratio  \n",
       "0         -0.321809       0.171837  \n",
       "1          0.003400       0.442318  "
      ]
     },
     "execution_count": 28,
     "metadata": {},
     "output_type": "execute_result"
    }
   ],
   "source": [
    "df1_z = df1.apply(zscore)\n",
    "df1_z.head(2)"
   ]
  },
  {
   "cell_type": "code",
   "execution_count": null,
   "metadata": {},
   "outputs": [],
   "source": []
  },
  {
   "cell_type": "markdown",
   "metadata": {},
   "source": [
    "### K - Means Clustering"
   ]
  },
  {
   "cell_type": "markdown",
   "metadata": {},
   "source": [
    "### 4. Assign a dummy array called distortion"
   ]
  },
  {
   "cell_type": "markdown",
   "metadata": {},
   "source": [
    "You can later use this array to plot the elbow plot"
   ]
  },
  {
   "cell_type": "code",
   "execution_count": 69,
   "metadata": {},
   "outputs": [],
   "source": [
    "dist = {}"
   ]
  },
  {
   "cell_type": "markdown",
   "metadata": {},
   "source": [
    "### 5. Calculating distortion - C distance"
   ]
  },
  {
   "cell_type": "code",
   "execution_count": 65,
   "metadata": {},
   "outputs": [],
   "source": [
    "from sklearn.cluster import KMeans"
   ]
  },
  {
   "cell_type": "markdown",
   "metadata": {},
   "source": [
    "Iterating values of k from 1 to 10 fit K means model\n",
    "Using c distance - Get the measure for Sum of squares error."
   ]
  },
  {
   "cell_type": "code",
   "execution_count": 70,
   "metadata": {},
   "outputs": [],
   "source": [
    "for k in range(1,11):\n",
    "    kmeans = KMeans(n_clusters = k)\n",
    "    kmeans.fit(df1_z)\n",
    "    dist[k] = kmeans.inertia_"
   ]
  },
  {
   "cell_type": "code",
   "execution_count": null,
   "metadata": {},
   "outputs": [],
   "source": []
  },
  {
   "cell_type": "markdown",
   "metadata": {},
   "source": [
    "### 6. Plotting Elbow/ Scree Plot"
   ]
  },
  {
   "cell_type": "markdown",
   "metadata": {},
   "source": [
    "Use Matplotlib to plot the scree plot - Note: Scree plot plots distortion vs the no of clusters"
   ]
  },
  {
   "cell_type": "code",
   "execution_count": 72,
   "metadata": {},
   "outputs": [
    {
     "data": {
      "image/png": "[encoded data removed]",
      "text/plain": [
       "<Figure size 432x288 with 1 Axes>"
      ]
     },
     "metadata": {
      "needs_background": "light"
     },
     "output_type": "display_data"
    }
   ],
   "source": [
    "sns.lineplot(x = list(dist.keys()), y = list(dist.values()))\n",
    "plt.xlabel('Number of Clusters')\n",
    "plt.ylabel('Distortion')\n",
    "plt.show()"
   ]
  },
  {
   "cell_type": "code",
   "execution_count": null,
   "metadata": {},
   "outputs": [],
   "source": []
  },
  {
   "cell_type": "markdown",
   "metadata": {},
   "source": [
    "### Find out the optimal value of K"
   ]
  },
  {
   "cell_type": "code",
   "execution_count": 87,
   "metadata": {},
   "outputs": [
    {
     "name": "stdout",
     "output_type": "stream",
     "text": [
      "From the Elbow plot Optimal Value of K is 4\n"
     ]
    }
   ],
   "source": [
    "print ('From the Elbow plot Optimal Value of K is 4')"
   ]
  },
  {
   "cell_type": "markdown",
   "metadata": {},
   "source": [
    "### Using optimal value of K - Cluster the data. \n",
    "Note: Since the data has more than 2 dimension we cannot visualize the data. As an alternative, we can observe the centroids and note how they are distributed across different dimensions"
   ]
  },
  {
   "cell_type": "code",
   "execution_count": 81,
   "metadata": {},
   "outputs": [
    {
     "data": {
      "text/plain": [
       "KMeans(algorithm='auto', copy_x=True, init='k-means++', max_iter=300,\n",
       "       n_clusters=4, n_init=10, n_jobs=None, precompute_distances='auto',\n",
       "       random_state=None, tol=0.0001, verbose=0)"
      ]
     },
     "execution_count": 81,
     "metadata": {},
     "output_type": "execute_result"
    }
   ],
   "source": [
    "from sklearn.cluster import KMeans\n",
    "kmeans = KMeans(n_clusters = 4)\n",
    "kmeans.fit(df1_z)"
   ]
  },
  {
   "cell_type": "code",
   "execution_count": 82,
   "metadata": {},
   "outputs": [],
   "source": [
    "arr_cent = kmeans.cluster_centers_"
   ]
  },
  {
   "cell_type": "markdown",
   "metadata": {},
   "source": [
    "You can use kmeans.cluster_centers_ function to pull the centroid information from the instance"
   ]
  },
  {
   "cell_type": "code",
   "execution_count": 83,
   "metadata": {},
   "outputs": [
    {
     "data": {
      "text/plain": [
       "array([[-9.15758407e-01, -5.22402678e-01, -8.89505987e-01,\n",
       "        -1.08772789e+00, -5.61970783e-01, -3.00015871e-01,\n",
       "        -7.79778853e-01,  8.67364185e-01, -7.45939378e-01,\n",
       "        -4.85536418e-01, -8.01746438e-01, -7.83836827e-01,\n",
       "        -3.90574645e-01,  7.83159216e-01, -9.02385712e-02,\n",
       "        -2.96089665e-01, -1.04774549e+00, -1.10361198e+00],\n",
       "       [ 1.15442786e+00,  1.18428647e+00,  1.21198691e+00,\n",
       "         9.73321772e-01,  9.49213388e-02,  2.18659142e-01,\n",
       "         1.29796844e+00, -1.21424667e+00,  1.30184458e+00,\n",
       "         1.09830595e+00,  1.20590258e+00,  1.30898668e+00,\n",
       "         1.09121291e+00, -1.07878646e-01,  1.68326262e-01,\n",
       "         2.67954844e-01,  4.67043879e-03,  1.90327006e-01],\n",
       "       [-2.28397024e-01, -5.77112825e-01, -3.08062421e-01,\n",
       "        -4.12415311e-02,  1.78444965e-01, -1.73698681e-01,\n",
       "        -4.56879712e-01,  3.21990722e-01, -4.85591783e-01,\n",
       "        -5.39969043e-01, -4.21528655e-01, -4.61480779e-01,\n",
       "        -6.05499266e-01, -6.42849115e-01, -6.23412553e-02,\n",
       "         1.29630066e-02,  8.22191910e-01,  7.05383081e-01],\n",
       "       [-7.33024343e-01,  7.27349604e-02, -2.72170954e-01,\n",
       "         2.94768327e+00,  6.83665190e+00,  8.69670551e+00,\n",
       "        -5.35008001e-01,  4.66247771e-01, -5.57405972e-01,\n",
       "         2.83410527e-01,  1.69752769e+00, -5.88068272e-01,\n",
       "         2.12700856e-01,  4.96563826e+00, -2.74839440e-01,\n",
       "        -2.31192779e-01, -7.07994144e-01, -4.53650721e-01]])"
      ]
     },
     "execution_count": 83,
     "metadata": {},
     "output_type": "execute_result"
    }
   ],
   "source": [
    "arr_cent"
   ]
  },
  {
   "cell_type": "markdown",
   "metadata": {},
   "source": [
    "### 7. Store the centroids in a dataframe with column names from the original dataset given "
   ]
  },
  {
   "cell_type": "code",
   "execution_count": 84,
   "metadata": {},
   "outputs": [
    {
     "data": {
      "text/html": [
       "<div>\n",
       "<style scoped>\n",
       "    .dataframe tbody tr th:only-of-type {\n",
       "        vertical-align: middle;\n",
       "    }\n",
       "\n",
       "    .dataframe tbody tr th {\n",
       "        vertical-align: top;\n",
       "    }\n",
       "\n",
       "    .dataframe thead th {\n",
       "        text-align: right;\n",
       "    }\n",
       "</style>\n",
       "<table border=\"1\" class=\"dataframe\">\n",
       "  <thead>\n",
       "    <tr style=\"text-align: right;\">\n",
       "      <th></th>\n",
       "      <th>compactness</th>\n",
       "      <th>circularity</th>\n",
       "      <th>distance_circularity</th>\n",
       "      <th>radius_ratio</th>\n",
       "      <th>pr.axis_aspect_ratio</th>\n",
       "      <th>max.length_aspect_ratio</th>\n",
       "      <th>scatter_ratio</th>\n",
       "      <th>elongatedness</th>\n",
       "      <th>pr.axis_rectangularity</th>\n",
       "      <th>max.length_rectangularity</th>\n",
       "      <th>scaled_variance</th>\n",
       "      <th>scaled_variance.1</th>\n",
       "      <th>scaled_radius_of_gyration</th>\n",
       "      <th>scaled_radius_of_gyration.1</th>\n",
       "      <th>skewness_about</th>\n",
       "      <th>skewness_about.1</th>\n",
       "      <th>skewness_about.2</th>\n",
       "      <th>hollows_ratio</th>\n",
       "    </tr>\n",
       "  </thead>\n",
       "  <tbody>\n",
       "    <tr>\n",
       "      <th>0</th>\n",
       "      <td>-0.915758</td>\n",
       "      <td>-0.522403</td>\n",
       "      <td>-0.889506</td>\n",
       "      <td>-1.087728</td>\n",
       "      <td>-0.561971</td>\n",
       "      <td>-0.300016</td>\n",
       "      <td>-0.779779</td>\n",
       "      <td>0.867364</td>\n",
       "      <td>-0.745939</td>\n",
       "      <td>-0.485536</td>\n",
       "      <td>-0.801746</td>\n",
       "      <td>-0.783837</td>\n",
       "      <td>-0.390575</td>\n",
       "      <td>0.783159</td>\n",
       "      <td>-0.090239</td>\n",
       "      <td>-0.296090</td>\n",
       "      <td>-1.047745</td>\n",
       "      <td>-1.103612</td>\n",
       "    </tr>\n",
       "    <tr>\n",
       "      <th>1</th>\n",
       "      <td>1.154428</td>\n",
       "      <td>1.184286</td>\n",
       "      <td>1.211987</td>\n",
       "      <td>0.973322</td>\n",
       "      <td>0.094921</td>\n",
       "      <td>0.218659</td>\n",
       "      <td>1.297968</td>\n",
       "      <td>-1.214247</td>\n",
       "      <td>1.301845</td>\n",
       "      <td>1.098306</td>\n",
       "      <td>1.205903</td>\n",
       "      <td>1.308987</td>\n",
       "      <td>1.091213</td>\n",
       "      <td>-0.107879</td>\n",
       "      <td>0.168326</td>\n",
       "      <td>0.267955</td>\n",
       "      <td>0.004670</td>\n",
       "      <td>0.190327</td>\n",
       "    </tr>\n",
       "    <tr>\n",
       "      <th>2</th>\n",
       "      <td>-0.228397</td>\n",
       "      <td>-0.577113</td>\n",
       "      <td>-0.308062</td>\n",
       "      <td>-0.041242</td>\n",
       "      <td>0.178445</td>\n",
       "      <td>-0.173699</td>\n",
       "      <td>-0.456880</td>\n",
       "      <td>0.321991</td>\n",
       "      <td>-0.485592</td>\n",
       "      <td>-0.539969</td>\n",
       "      <td>-0.421529</td>\n",
       "      <td>-0.461481</td>\n",
       "      <td>-0.605499</td>\n",
       "      <td>-0.642849</td>\n",
       "      <td>-0.062341</td>\n",
       "      <td>0.012963</td>\n",
       "      <td>0.822192</td>\n",
       "      <td>0.705383</td>\n",
       "    </tr>\n",
       "    <tr>\n",
       "      <th>3</th>\n",
       "      <td>-0.733024</td>\n",
       "      <td>0.072735</td>\n",
       "      <td>-0.272171</td>\n",
       "      <td>2.947683</td>\n",
       "      <td>6.836652</td>\n",
       "      <td>8.696706</td>\n",
       "      <td>-0.535008</td>\n",
       "      <td>0.466248</td>\n",
       "      <td>-0.557406</td>\n",
       "      <td>0.283411</td>\n",
       "      <td>1.697528</td>\n",
       "      <td>-0.588068</td>\n",
       "      <td>0.212701</td>\n",
       "      <td>4.965638</td>\n",
       "      <td>-0.274839</td>\n",
       "      <td>-0.231193</td>\n",
       "      <td>-0.707994</td>\n",
       "      <td>-0.453651</td>\n",
       "    </tr>\n",
       "  </tbody>\n",
       "</table>\n",
       "</div>"
      ],
      "text/plain": [
       "   compactness  circularity  distance_circularity  radius_ratio  \\\n",
       "0    -0.915758    -0.522403             -0.889506     -1.087728   \n",
       "1     1.154428     1.184286              1.211987      0.973322   \n",
       "2    -0.228397    -0.577113             -0.308062     -0.041242   \n",
       "3    -0.733024     0.072735             -0.272171      2.947683   \n",
       "\n",
       "   pr.axis_aspect_ratio  max.length_aspect_ratio  scatter_ratio  \\\n",
       "0             -0.561971                -0.300016      -0.779779   \n",
       "1              0.094921                 0.218659       1.297968   \n",
       "2              0.178445                -0.173699      -0.456880   \n",
       "3              6.836652                 8.696706      -0.535008   \n",
       "\n",
       "   elongatedness  pr.axis_rectangularity  max.length_rectangularity  \\\n",
       "0       0.867364               -0.745939                  -0.485536   \n",
       "1      -1.214247                1.301845                   1.098306   \n",
       "2       0.321991               -0.485592                  -0.539969   \n",
       "3       0.466248               -0.557406                   0.283411   \n",
       "\n",
       "   scaled_variance  scaled_variance.1  scaled_radius_of_gyration  \\\n",
       "0        -0.801746          -0.783837                  -0.390575   \n",
       "1         1.205903           1.308987                   1.091213   \n",
       "2        -0.421529          -0.461481                  -0.605499   \n",
       "3         1.697528          -0.588068                   0.212701   \n",
       "\n",
       "   scaled_radius_of_gyration.1  skewness_about  skewness_about.1  \\\n",
       "0                     0.783159       -0.090239         -0.296090   \n",
       "1                    -0.107879        0.168326          0.267955   \n",
       "2                    -0.642849       -0.062341          0.012963   \n",
       "3                     4.965638       -0.274839         -0.231193   \n",
       "\n",
       "   skewness_about.2  hollows_ratio  \n",
       "0         -1.047745      -1.103612  \n",
       "1          0.004670       0.190327  \n",
       "2          0.822192       0.705383  \n",
       "3         -0.707994      -0.453651  "
      ]
     },
     "execution_count": 84,
     "metadata": {},
     "output_type": "execute_result"
    }
   ],
   "source": [
    "centroids = pd.DataFrame(columns = df1_z.columns, data = arr_cent )\n",
    "centroids"
   ]
  },
  {
   "cell_type": "markdown",
   "metadata": {},
   "source": [
    "Hint: Use pd.Dataframe function "
   ]
  },
  {
   "cell_type": "code",
   "execution_count": null,
   "metadata": {},
   "outputs": [],
   "source": []
  },
  {
   "cell_type": "markdown",
   "metadata": {},
   "source": [
    "### Use kmeans.labels_ function to print out the labels of the classes"
   ]
  },
  {
   "cell_type": "code",
   "execution_count": 85,
   "metadata": {},
   "outputs": [
    {
     "data": {
      "text/plain": [
       "array([2, 2, 1, 2, 3, 2, 2, 2, 2, 2, 2, 2, 2, 1, 0, 2, 1, 0, 0, 2, 2, 1,\n",
       "       2, 0, 1, 1, 0, 2, 2, 2, 1, 2, 0, 3, 1, 0, 1, 0, 0, 2, 1, 0, 0, 0,\n",
       "       0, 2, 0, 2, 1, 2, 1, 2, 2, 0, 1, 0, 1, 0, 0, 0, 2, 0, 1, 2, 1, 1,\n",
       "       2, 0, 2, 1, 2, 0, 0, 1, 2, 0, 2, 1, 2, 0, 2, 0, 1, 2, 1, 2, 0, 1,\n",
       "       0, 0, 1, 0, 3, 2, 2, 0, 1, 1, 0, 0, 1, 2, 2, 0, 0, 0, 2, 1, 1, 2,\n",
       "       0, 0, 2, 0, 0, 0, 0, 0, 2, 1, 1, 2, 2, 0, 1, 3, 0, 2, 0, 2, 2, 1,\n",
       "       0, 2, 1, 2, 2, 2, 2, 1, 2, 2, 1, 2, 1, 2, 0, 2, 0, 1, 2, 2, 1, 1,\n",
       "       2, 1, 0, 0, 1, 1, 2, 1, 2, 2, 2, 2, 0, 1, 0, 2, 0, 1, 2, 2, 2, 1,\n",
       "       2, 1, 2, 1, 2, 0, 1, 0, 0, 0, 2, 2, 1, 1, 2, 2, 2, 0, 1, 2, 2, 2,\n",
       "       1, 0, 0, 1, 0, 2, 1, 0, 0, 0, 2, 1, 2, 1, 0, 0, 0, 0, 1, 2, 0, 2,\n",
       "       1, 0, 2, 2, 0, 1, 0, 0, 2, 2, 1, 0, 1, 0, 2, 2, 1, 2, 2, 1, 1, 0,\n",
       "       2, 2, 2, 1, 0, 2, 2, 0, 0, 2, 2, 1, 2, 0, 0, 1, 2, 2, 0, 0, 1, 0,\n",
       "       2, 1, 0, 2, 3, 2, 2, 1, 2, 1, 0, 2, 2, 1, 2, 2, 2, 0, 2, 1, 1, 1,\n",
       "       1, 0, 2, 1, 0, 0, 0, 2, 0, 1, 1, 0, 1, 2, 0, 1, 0, 2, 2, 1, 1, 0,\n",
       "       1, 1, 0, 1, 2, 2, 2, 0, 0, 1, 1, 1, 2, 2, 2, 1, 0, 2, 0, 1, 2, 2,\n",
       "       1, 2, 1, 1, 1, 2, 0, 0, 1, 0, 0, 0, 2, 2, 2, 2, 0, 1, 1, 0, 0, 1,\n",
       "       0, 1, 0, 1, 2, 0, 2, 0, 3, 1, 0, 2, 2, 2, 1, 2, 2, 2, 2, 1, 2, 1,\n",
       "       2, 1, 2, 0, 0, 2, 2, 2, 0, 0, 2, 0, 1, 2, 2, 0, 0, 1, 2, 0, 2, 2,\n",
       "       1, 2, 1, 2, 1, 1, 0, 0, 1, 2, 0, 0, 2, 1, 1, 0, 2, 1, 1, 0, 1, 1,\n",
       "       1, 2, 2, 2, 2, 2, 1, 0, 0, 2, 1, 2, 2, 1, 2, 0, 1, 0, 0, 1, 2, 0,\n",
       "       1, 1, 1, 0, 1, 1, 0, 2, 0, 1, 1, 2, 2, 0, 0, 1, 2, 0, 1, 1, 2, 0,\n",
       "       1, 1, 2, 0, 0, 1, 1, 1, 0, 0, 1, 1, 1, 2, 2, 1, 0, 2, 1, 2, 0, 0,\n",
       "       2, 1, 0, 2, 2, 0, 3, 1, 2, 1, 1, 2, 0, 2, 1, 1, 0, 0, 2, 1, 2, 1,\n",
       "       1, 2, 2, 2, 2, 0, 0, 0, 2, 2, 1, 0, 0, 2, 0, 1, 2, 1, 0, 0, 1, 1,\n",
       "       2, 1, 2, 2, 2, 1, 2, 0, 2, 1, 2, 2, 0, 1, 1, 1, 1, 2, 0, 0, 0, 1,\n",
       "       1, 1, 2, 1, 0, 2, 1, 0, 0, 0, 2, 0, 1, 2, 2, 2, 2, 2, 2, 1, 2, 2,\n",
       "       1, 2, 2, 2, 0, 1, 0, 0, 2, 0, 2, 2, 0, 0, 1, 1, 0, 2, 1, 2, 1, 2,\n",
       "       2, 1, 2, 0, 1, 0, 1, 0, 0, 2, 0, 2, 1, 1, 0, 1, 2, 2, 0, 2, 0, 1,\n",
       "       2, 1, 0, 2, 2, 2, 0, 0, 0, 2, 1, 2, 1, 0, 2, 2, 2, 2, 1, 2, 0, 1,\n",
       "       2, 1, 2, 2, 1, 0, 1, 0, 2, 2, 2, 0, 1, 2, 0, 2, 1, 0, 1, 2, 2, 1,\n",
       "       0, 2, 0, 2, 2, 0, 2, 1, 1, 2, 2, 1, 1, 3, 2, 0, 2, 1, 1, 1, 1, 2,\n",
       "       1, 2, 2, 1, 1, 2, 1, 2, 1, 2, 0, 1, 2, 0, 1, 1, 1, 2, 1, 0, 0, 1,\n",
       "       1, 1, 2, 1, 2, 2, 1, 2, 0, 2, 0, 2, 1, 2, 0, 2, 2, 2, 0, 1, 0, 0,\n",
       "       0, 1, 1, 0, 1, 1, 0, 2, 2, 1, 2, 0, 1, 1, 0, 2, 2, 1, 1, 1, 0, 1,\n",
       "       2, 1, 1, 0, 0, 1, 0, 1, 2, 0, 2, 1, 1, 2, 0, 2, 1, 1, 2, 2, 0, 2,\n",
       "       2, 1, 0, 2, 1, 0, 0, 1, 0, 2, 0, 0, 0, 2, 1, 1, 2, 0, 1, 2, 1, 1,\n",
       "       0, 2, 1, 0, 0, 2, 2, 1, 0, 0, 1, 0, 2, 2, 2, 2, 2, 2, 1, 2, 0])"
      ]
     },
     "execution_count": 85,
     "metadata": {},
     "output_type": "execute_result"
    }
   ],
   "source": [
    "kmeans.labels_"
   ]
  },
  {
   "cell_type": "code",
   "execution_count": 94,
   "metadata": {},
   "outputs": [
    {
     "name": "stdout",
     "output_type": "stream",
     "text": [
      "             class_label\n",
      "class_label             \n",
      "0                    239\n",
      "1                    256\n",
      "2                    310\n",
      "3                      8\n"
     ]
    }
   ],
   "source": [
    "labels_df = pd.DataFrame(columns=['class_label'], data=kmeans.labels_)\n",
    "print(labels_df.groupby('class_label').agg({'class_label':'count'}))"
   ]
  },
  {
   "cell_type": "code",
   "execution_count": 97,
   "metadata": {},
   "outputs": [
    {
     "data": {
      "text/html": [
       "<div>\n",
       "<style scoped>\n",
       "    .dataframe tbody tr th:only-of-type {\n",
       "        vertical-align: middle;\n",
       "    }\n",
       "\n",
       "    .dataframe tbody tr th {\n",
       "        vertical-align: top;\n",
       "    }\n",
       "\n",
       "    .dataframe thead th {\n",
       "        text-align: right;\n",
       "    }\n",
       "</style>\n",
       "<table border=\"1\" class=\"dataframe\">\n",
       "  <thead>\n",
       "    <tr style=\"text-align: right;\">\n",
       "      <th></th>\n",
       "      <th>0</th>\n",
       "      <th>1</th>\n",
       "      <th>2</th>\n",
       "      <th>3</th>\n",
       "      <th>4</th>\n",
       "    </tr>\n",
       "  </thead>\n",
       "  <tbody>\n",
       "    <tr>\n",
       "      <th>compactness</th>\n",
       "      <td>95</td>\n",
       "      <td>91</td>\n",
       "      <td>104</td>\n",
       "      <td>93</td>\n",
       "      <td>85</td>\n",
       "    </tr>\n",
       "    <tr>\n",
       "      <th>circularity</th>\n",
       "      <td>48</td>\n",
       "      <td>41</td>\n",
       "      <td>50</td>\n",
       "      <td>41</td>\n",
       "      <td>44</td>\n",
       "    </tr>\n",
       "    <tr>\n",
       "      <th>distance_circularity</th>\n",
       "      <td>83</td>\n",
       "      <td>84</td>\n",
       "      <td>106</td>\n",
       "      <td>82</td>\n",
       "      <td>70</td>\n",
       "    </tr>\n",
       "    <tr>\n",
       "      <th>radius_ratio</th>\n",
       "      <td>178</td>\n",
       "      <td>141</td>\n",
       "      <td>209</td>\n",
       "      <td>159</td>\n",
       "      <td>205</td>\n",
       "    </tr>\n",
       "    <tr>\n",
       "      <th>pr.axis_aspect_ratio</th>\n",
       "      <td>72</td>\n",
       "      <td>57</td>\n",
       "      <td>66</td>\n",
       "      <td>63</td>\n",
       "      <td>103</td>\n",
       "    </tr>\n",
       "    <tr>\n",
       "      <th>max.length_aspect_ratio</th>\n",
       "      <td>10</td>\n",
       "      <td>9</td>\n",
       "      <td>10</td>\n",
       "      <td>9</td>\n",
       "      <td>52</td>\n",
       "    </tr>\n",
       "    <tr>\n",
       "      <th>scatter_ratio</th>\n",
       "      <td>162</td>\n",
       "      <td>149</td>\n",
       "      <td>207</td>\n",
       "      <td>144</td>\n",
       "      <td>149</td>\n",
       "    </tr>\n",
       "    <tr>\n",
       "      <th>elongatedness</th>\n",
       "      <td>42</td>\n",
       "      <td>45</td>\n",
       "      <td>32</td>\n",
       "      <td>46</td>\n",
       "      <td>45</td>\n",
       "    </tr>\n",
       "    <tr>\n",
       "      <th>pr.axis_rectangularity</th>\n",
       "      <td>20</td>\n",
       "      <td>19</td>\n",
       "      <td>23</td>\n",
       "      <td>19</td>\n",
       "      <td>19</td>\n",
       "    </tr>\n",
       "    <tr>\n",
       "      <th>max.length_rectangularity</th>\n",
       "      <td>159</td>\n",
       "      <td>143</td>\n",
       "      <td>158</td>\n",
       "      <td>143</td>\n",
       "      <td>144</td>\n",
       "    </tr>\n",
       "    <tr>\n",
       "      <th>scaled_variance</th>\n",
       "      <td>176</td>\n",
       "      <td>170</td>\n",
       "      <td>223</td>\n",
       "      <td>160</td>\n",
       "      <td>241</td>\n",
       "    </tr>\n",
       "    <tr>\n",
       "      <th>scaled_variance.1</th>\n",
       "      <td>379</td>\n",
       "      <td>330</td>\n",
       "      <td>635</td>\n",
       "      <td>309</td>\n",
       "      <td>325</td>\n",
       "    </tr>\n",
       "    <tr>\n",
       "      <th>scaled_radius_of_gyration</th>\n",
       "      <td>184</td>\n",
       "      <td>158</td>\n",
       "      <td>220</td>\n",
       "      <td>127</td>\n",
       "      <td>188</td>\n",
       "    </tr>\n",
       "    <tr>\n",
       "      <th>scaled_radius_of_gyration.1</th>\n",
       "      <td>70</td>\n",
       "      <td>72</td>\n",
       "      <td>73</td>\n",
       "      <td>63</td>\n",
       "      <td>127</td>\n",
       "    </tr>\n",
       "    <tr>\n",
       "      <th>skewness_about</th>\n",
       "      <td>6</td>\n",
       "      <td>9</td>\n",
       "      <td>14</td>\n",
       "      <td>6</td>\n",
       "      <td>9</td>\n",
       "    </tr>\n",
       "    <tr>\n",
       "      <th>skewness_about.1</th>\n",
       "      <td>16</td>\n",
       "      <td>14</td>\n",
       "      <td>9</td>\n",
       "      <td>10</td>\n",
       "      <td>11</td>\n",
       "    </tr>\n",
       "    <tr>\n",
       "      <th>skewness_about.2</th>\n",
       "      <td>187</td>\n",
       "      <td>189</td>\n",
       "      <td>188</td>\n",
       "      <td>199</td>\n",
       "      <td>180</td>\n",
       "    </tr>\n",
       "    <tr>\n",
       "      <th>hollows_ratio</th>\n",
       "      <td>197</td>\n",
       "      <td>199</td>\n",
       "      <td>196</td>\n",
       "      <td>207</td>\n",
       "      <td>183</td>\n",
       "    </tr>\n",
       "    <tr>\n",
       "      <th>class</th>\n",
       "      <td>van</td>\n",
       "      <td>van</td>\n",
       "      <td>car</td>\n",
       "      <td>van</td>\n",
       "      <td>bus</td>\n",
       "    </tr>\n",
       "    <tr>\n",
       "      <th>class_label</th>\n",
       "      <td>2</td>\n",
       "      <td>2</td>\n",
       "      <td>1</td>\n",
       "      <td>2</td>\n",
       "      <td>3</td>\n",
       "    </tr>\n",
       "  </tbody>\n",
       "</table>\n",
       "</div>"
      ],
      "text/plain": [
       "                               0    1    2    3    4\n",
       "compactness                   95   91  104   93   85\n",
       "circularity                   48   41   50   41   44\n",
       "distance_circularity          83   84  106   82   70\n",
       "radius_ratio                 178  141  209  159  205\n",
       "pr.axis_aspect_ratio          72   57   66   63  103\n",
       "max.length_aspect_ratio       10    9   10    9   52\n",
       "scatter_ratio                162  149  207  144  149\n",
       "elongatedness                 42   45   32   46   45\n",
       "pr.axis_rectangularity        20   19   23   19   19\n",
       "max.length_rectangularity    159  143  158  143  144\n",
       "scaled_variance              176  170  223  160  241\n",
       "scaled_variance.1            379  330  635  309  325\n",
       "scaled_radius_of_gyration    184  158  220  127  188\n",
       "scaled_radius_of_gyration.1   70   72   73   63  127\n",
       "skewness_about                 6    9   14    6    9\n",
       "skewness_about.1              16   14    9   10   11\n",
       "skewness_about.2             187  189  188  199  180\n",
       "hollows_ratio                197  199  196  207  183\n",
       "class                        van  van  car  van  bus\n",
       "class_label                    2    2    1    2    3"
      ]
     },
     "execution_count": 97,
     "metadata": {},
     "output_type": "execute_result"
    }
   ],
   "source": [
    "df['class_label'] = labels_df\n",
    "df.head(5).T"
   ]
  },
  {
   "cell_type": "markdown",
   "metadata": {},
   "source": [
    "## Hierarchical Clustering "
   ]
  },
  {
   "cell_type": "markdown",
   "metadata": {},
   "source": [
    "### 8. Variable creation"
   ]
  },
  {
   "cell_type": "markdown",
   "metadata": {},
   "source": [
    "For Hierarchical clustering, we will create datasets using multivariate normal distribution to visually observe how the clusters are formed at the end"
   ]
  },
  {
   "cell_type": "raw",
   "metadata": {},
   "source": [
    "a = np.random.multivariate_normal([10, 0], [[3, 1], [1, 4]], size=[100,])\n",
    "b = np.random.multivariate_normal([0, 20], [[3, 1], [1, 4]], size=[50,])\n",
    "c = np.random.multivariate_normal([10, 20], [[3, 1], [1, 4]], size=[100,])"
   ]
  },
  {
   "cell_type": "code",
   "execution_count": 91,
   "metadata": {},
   "outputs": [],
   "source": [
    "import numpy as np"
   ]
  },
  {
   "cell_type": "code",
   "execution_count": 92,
   "metadata": {},
   "outputs": [],
   "source": [
    "a = np.random.multivariate_normal([10, 0], [[3, 1], [1, 4]], size=[100,])\n",
    "b = np.random.multivariate_normal([0, 20], [[3, 1], [1, 4]], size=[50,])\n",
    "c = np.random.multivariate_normal([10, 20], [[3, 1], [1, 4]], size=[100,])"
   ]
  },
  {
   "cell_type": "markdown",
   "metadata": {},
   "source": [
    "### 9. Combine all three arrays a,b,c into a dataframe"
   ]
  },
  {
   "cell_type": "code",
   "execution_count": 104,
   "metadata": {},
   "outputs": [
    {
     "data": {
      "text/html": [
       "<div>\n",
       "<style scoped>\n",
       "    .dataframe tbody tr th:only-of-type {\n",
       "        vertical-align: middle;\n",
       "    }\n",
       "\n",
       "    .dataframe tbody tr th {\n",
       "        vertical-align: top;\n",
       "    }\n",
       "\n",
       "    .dataframe thead th {\n",
       "        text-align: right;\n",
       "    }\n",
       "</style>\n",
       "<table border=\"1\" class=\"dataframe\">\n",
       "  <thead>\n",
       "    <tr style=\"text-align: right;\">\n",
       "      <th></th>\n",
       "      <th>0</th>\n",
       "      <th>1</th>\n",
       "    </tr>\n",
       "  </thead>\n",
       "  <tbody>\n",
       "    <tr>\n",
       "      <th>0</th>\n",
       "      <td>13.009679</td>\n",
       "      <td>-0.649615</td>\n",
       "    </tr>\n",
       "    <tr>\n",
       "      <th>1</th>\n",
       "      <td>9.252411</td>\n",
       "      <td>2.312749</td>\n",
       "    </tr>\n",
       "    <tr>\n",
       "      <th>2</th>\n",
       "      <td>11.643381</td>\n",
       "      <td>1.001612</td>\n",
       "    </tr>\n",
       "    <tr>\n",
       "      <th>3</th>\n",
       "      <td>9.553205</td>\n",
       "      <td>-1.174333</td>\n",
       "    </tr>\n",
       "    <tr>\n",
       "      <th>4</th>\n",
       "      <td>7.316829</td>\n",
       "      <td>0.425493</td>\n",
       "    </tr>\n",
       "  </tbody>\n",
       "</table>\n",
       "</div>"
      ],
      "text/plain": [
       "           0         1\n",
       "0  13.009679 -0.649615\n",
       "1   9.252411  2.312749\n",
       "2  11.643381  1.001612\n",
       "3   9.553205 -1.174333\n",
       "4   7.316829  0.425493"
      ]
     },
     "execution_count": 104,
     "metadata": {},
     "output_type": "execute_result"
    }
   ],
   "source": [
    "final_df = pd.DataFrame(data=a)\n",
    "final_df = final_df.append(pd.DataFrame(data=b))\n",
    "final_df = final_df.append(pd.DataFrame(data=c))\n",
    "final_df.head()"
   ]
  },
  {
   "cell_type": "markdown",
   "metadata": {},
   "source": [
    "### 10. Use scatter matrix to print all the 3 distributions"
   ]
  },
  {
   "cell_type": "code",
   "execution_count": 116,
   "metadata": {},
   "outputs": [
    {
     "data": {
      "text/plain": [
       "<matplotlib.axes._subplots.AxesSubplot at 0x22daa2bec18>"
      ]
     },
     "execution_count": 116,
     "metadata": {},
     "output_type": "execute_result"
    },
    {
     "data": {
      "image/png": "[encoded data removed]",
      "text/plain": [
       "<Figure size 432x288 with 1 Axes>"
      ]
     },
     "metadata": {
      "needs_background": "light"
     },
     "output_type": "display_data"
    }
   ],
   "source": [
    "sns.scatterplot(x= 0 , y= 1 , data=final_df)"
   ]
  },
  {
   "cell_type": "markdown",
   "metadata": {},
   "source": [
    "### 11. Find out the linkage matrix"
   ]
  },
  {
   "cell_type": "code",
   "execution_count": 117,
   "metadata": {},
   "outputs": [],
   "source": [
    "import scipy.cluster.hierarchy as shc\n",
    "%matplotlib inline\n",
    "import matplotlib.pyplot as plt\n",
    "import numpy as np"
   ]
  },
  {
   "cell_type": "code",
   "execution_count": 118,
   "metadata": {},
   "outputs": [],
   "source": [
    "shc1 = shc.linkage(final_df.values, method='ward')"
   ]
  },
  {
   "cell_type": "code",
   "execution_count": 120,
   "metadata": {},
   "outputs": [
    {
     "data": {
      "text/plain": [
       "array([[4.10000000e+01, 9.90000000e+01, 2.79994624e-02, 2.00000000e+00],\n",
       "       [1.62000000e+02, 1.63000000e+02, 3.55098777e-02, 2.00000000e+00],\n",
       "       [1.80000000e+02, 2.17000000e+02, 6.09716493e-02, 2.00000000e+00],\n",
       "       [1.85000000e+02, 2.21000000e+02, 6.25201534e-02, 2.00000000e+00],\n",
       "       [5.00000000e+01, 5.20000000e+01, 6.37069027e-02, 2.00000000e+00],\n",
       "       [3.30000000e+01, 8.10000000e+01, 6.63656600e-02, 2.00000000e+00],\n",
       "       [2.20000000e+01, 7.50000000e+01, 7.45501123e-02, 2.00000000e+00],\n",
       "       [1.67000000e+02, 1.96000000e+02, 7.79514000e-02, 2.00000000e+00],\n",
       "       [1.61000000e+02, 1.68000000e+02, 8.90506064e-02, 2.00000000e+00],\n",
       "       [1.99000000e+02, 2.23000000e+02, 9.34662951e-02, 2.00000000e+00],\n",
       "       [2.10000000e+01, 2.70000000e+01, 9.43155230e-02, 2.00000000e+00],\n",
       "       [4.70000000e+01, 6.50000000e+01, 1.06033240e-01, 2.00000000e+00],\n",
       "       [1.50000000e+01, 9.00000000e+01, 1.32580443e-01, 2.00000000e+00],\n",
       "       [4.90000000e+01, 5.40000000e+01, 1.34453797e-01, 2.00000000e+00],\n",
       "       [2.90000000e+01, 4.60000000e+01, 1.39942570e-01, 2.00000000e+00],\n",
       "       [3.60000000e+01, 7.40000000e+01, 1.48294774e-01, 2.00000000e+00],\n",
       "       [1.06000000e+02, 1.45000000e+02, 1.54772215e-01, 2.00000000e+00],\n",
       "       [2.14000000e+02, 2.49000000e+02, 1.67267664e-01, 2.00000000e+00],\n",
       "       [1.22000000e+02, 1.41000000e+02, 1.67288602e-01, 2.00000000e+00],\n",
       "       [1.03000000e+02, 1.10000000e+02, 1.68342684e-01, 2.00000000e+00],\n",
       "       [1.37000000e+02, 1.47000000e+02, 1.74313118e-01, 2.00000000e+00],\n",
       "       [4.20000000e+01, 2.64000000e+02, 1.82671519e-01, 3.00000000e+00],\n",
       "       [9.30000000e+01, 9.80000000e+01, 1.83035481e-01, 2.00000000e+00],\n",
       "       [1.90000000e+02, 2.52000000e+02, 1.84945962e-01, 3.00000000e+00],\n",
       "       [4.50000000e+01, 6.00000000e+01, 1.92620446e-01, 2.00000000e+00],\n",
       "       [1.89000000e+02, 2.09000000e+02, 1.94456534e-01, 2.00000000e+00],\n",
       "       [2.33000000e+02, 2.44000000e+02, 1.94901666e-01, 2.00000000e+00],\n",
       "       [8.40000000e+01, 9.70000000e+01, 2.05383028e-01, 2.00000000e+00],\n",
       "       [4.30000000e+01, 8.60000000e+01, 2.06273350e-01, 2.00000000e+00],\n",
       "       [1.53000000e+02, 2.27000000e+02, 2.12776387e-01, 2.00000000e+00],\n",
       "       [1.00000000e+02, 1.18000000e+02, 2.19280617e-01, 2.00000000e+00],\n",
       "       [3.00000000e+01, 3.40000000e+01, 2.24636708e-01, 2.00000000e+00],\n",
       "       [6.30000000e+01, 2.65000000e+02, 2.34210537e-01, 3.00000000e+00],\n",
       "       [1.27000000e+02, 1.36000000e+02, 2.42145310e-01, 2.00000000e+00],\n",
       "       [1.78000000e+02, 2.25000000e+02, 2.45512756e-01, 2.00000000e+00],\n",
       "       [2.03000000e+02, 2.26000000e+02, 2.46223799e-01, 2.00000000e+00],\n",
       "       [1.82000000e+02, 1.98000000e+02, 2.57215249e-01, 2.00000000e+00],\n",
       "       [2.80000000e+01, 3.50000000e+01, 2.58420065e-01, 2.00000000e+00],\n",
       "       [1.66000000e+02, 1.83000000e+02, 2.58490679e-01, 2.00000000e+00],\n",
       "       [1.38000000e+02, 1.39000000e+02, 2.66957883e-01, 2.00000000e+00],\n",
       "       [1.87000000e+02, 2.22000000e+02, 2.67840529e-01, 2.00000000e+00],\n",
       "       [1.58000000e+02, 2.38000000e+02, 2.75341089e-01, 2.00000000e+00],\n",
       "       [7.70000000e+01, 2.74000000e+02, 2.77297046e-01, 3.00000000e+00],\n",
       "       [6.20000000e+01, 9.50000000e+01, 2.84594753e-01, 2.00000000e+00],\n",
       "       [1.72000000e+02, 1.93000000e+02, 2.86667114e-01, 2.00000000e+00],\n",
       "       [1.71000000e+02, 2.18000000e+02, 2.90538338e-01, 2.00000000e+00],\n",
       "       [5.90000000e+01, 2.54000000e+02, 2.92358500e-01, 3.00000000e+00],\n",
       "       [3.70000000e+01, 8.30000000e+01, 2.93282285e-01, 2.00000000e+00],\n",
       "       [1.00000000e+00, 7.10000000e+01, 2.94026019e-01, 2.00000000e+00],\n",
       "       [2.42000000e+02, 2.67000000e+02, 3.02107693e-01, 3.00000000e+00],\n",
       "       [1.70000000e+02, 1.75000000e+02, 3.04797417e-01, 2.00000000e+00],\n",
       "       [1.97000000e+02, 2.51000000e+02, 3.12416049e-01, 3.00000000e+00],\n",
       "       [1.51000000e+02, 2.16000000e+02, 3.18367486e-01, 2.00000000e+00],\n",
       "       [7.30000000e+01, 2.50000000e+02, 3.21714611e-01, 3.00000000e+00],\n",
       "       [8.00000000e+00, 3.20000000e+01, 3.25228082e-01, 2.00000000e+00],\n",
       "       [5.50000000e+01, 2.72000000e+02, 3.25574382e-01, 3.00000000e+00],\n",
       "       [5.80000000e+01, 9.60000000e+01, 3.26071854e-01, 2.00000000e+00],\n",
       "       [2.13000000e+02, 2.47000000e+02, 3.26945888e-01, 2.00000000e+00],\n",
       "       [1.79000000e+02, 2.76000000e+02, 3.33321621e-01, 3.00000000e+00],\n",
       "       [1.57000000e+02, 2.30000000e+02, 3.33643852e-01, 2.00000000e+00],\n",
       "       [6.10000000e+01, 6.60000000e+01, 3.39440791e-01, 2.00000000e+00],\n",
       "       [5.70000000e+01, 9.40000000e+01, 3.39636455e-01, 2.00000000e+00],\n",
       "       [1.12000000e+02, 1.44000000e+02, 3.41073338e-01, 2.00000000e+00],\n",
       "       [1.77000000e+02, 2.94000000e+02, 3.56292709e-01, 3.00000000e+00],\n",
       "       [1.10000000e+01, 7.00000000e+01, 3.57977803e-01, 2.00000000e+00],\n",
       "       [3.10000000e+01, 9.20000000e+01, 3.68263008e-01, 2.00000000e+00],\n",
       "       [2.00000000e+00, 6.90000000e+01, 3.72348852e-01, 2.00000000e+00],\n",
       "       [6.00000000e+00, 2.62000000e+02, 3.73484683e-01, 3.00000000e+00],\n",
       "       [3.00000000e+00, 1.90000000e+01, 3.74165444e-01, 2.00000000e+00],\n",
       "       [5.30000000e+01, 2.56000000e+02, 3.95995885e-01, 3.00000000e+00],\n",
       "       [1.54000000e+02, 2.20000000e+02, 3.98750706e-01, 2.00000000e+00],\n",
       "       [1.07000000e+02, 1.30000000e+02, 4.08627476e-01, 2.00000000e+00],\n",
       "       [4.00000000e+01, 3.06000000e+02, 4.10246147e-01, 3.00000000e+00],\n",
       "       [2.19000000e+02, 2.86000000e+02, 4.14472851e-01, 3.00000000e+00],\n",
       "       [8.80000000e+01, 8.90000000e+01, 4.16627999e-01, 2.00000000e+00],\n",
       "       [2.06000000e+02, 2.10000000e+02, 4.18093186e-01, 2.00000000e+00],\n",
       "       [1.50000000e+02, 2.15000000e+02, 4.21073983e-01, 2.00000000e+00],\n",
       "       [1.19000000e+02, 1.49000000e+02, 4.21161443e-01, 2.00000000e+00],\n",
       "       [8.50000000e+01, 2.82000000e+02, 4.24861114e-01, 4.00000000e+00],\n",
       "       [2.02000000e+02, 2.79000000e+02, 4.25835269e-01, 3.00000000e+00],\n",
       "       [7.20000000e+01, 2.71000000e+02, 4.38727413e-01, 4.00000000e+00],\n",
       "       [1.05000000e+02, 1.14000000e+02, 4.43210568e-01, 2.00000000e+00],\n",
       "       [1.17000000e+02, 2.80000000e+02, 4.44128743e-01, 3.00000000e+00],\n",
       "       [1.73000000e+02, 2.90000000e+02, 4.47373689e-01, 3.00000000e+00],\n",
       "       [1.40000000e+01, 2.93000000e+02, 4.57067249e-01, 3.00000000e+00],\n",
       "       [1.11000000e+02, 2.66000000e+02, 4.70669837e-01, 3.00000000e+00],\n",
       "       [2.40000000e+01, 3.16000000e+02, 4.73232592e-01, 3.00000000e+00],\n",
       "       [2.04000000e+02, 2.75000000e+02, 4.94081607e-01, 3.00000000e+00],\n",
       "       [1.60000000e+02, 2.91000000e+02, 4.95694993e-01, 3.00000000e+00],\n",
       "       [2.36000000e+02, 2.41000000e+02, 5.18700436e-01, 2.00000000e+00],\n",
       "       [1.08000000e+02, 1.28000000e+02, 5.26762266e-01, 2.00000000e+00],\n",
       "       [1.15000000e+02, 1.16000000e+02, 5.27970230e-01, 2.00000000e+00],\n",
       "       [6.40000000e+01, 3.05000000e+02, 5.28153378e-01, 4.00000000e+00],\n",
       "       [1.35000000e+02, 1.48000000e+02, 5.34933190e-01, 2.00000000e+00],\n",
       "       [9.10000000e+01, 3.03000000e+02, 5.35793206e-01, 4.00000000e+00],\n",
       "       [8.00000000e+01, 3.10000000e+02, 5.50197082e-01, 3.00000000e+00],\n",
       "       [2.12000000e+02, 2.58000000e+02, 5.56517429e-01, 3.00000000e+00],\n",
       "       [1.88000000e+02, 1.92000000e+02, 5.57058712e-01, 2.00000000e+00],\n",
       "       [1.84000000e+02, 2.43000000e+02, 5.61650555e-01, 2.00000000e+00],\n",
       "       [1.52000000e+02, 3.01000000e+02, 5.64137563e-01, 4.00000000e+00],\n",
       "       [1.80000000e+01, 3.90000000e+01, 5.78264915e-01, 2.00000000e+00],\n",
       "       [2.24000000e+02, 3.09000000e+02, 5.82422613e-01, 3.00000000e+00],\n",
       "       [2.55000000e+02, 3.30000000e+02, 5.82498841e-01, 6.00000000e+00],\n",
       "       [2.35000000e+02, 3.23000000e+02, 6.00946423e-01, 4.00000000e+00],\n",
       "       [2.63000000e+02, 2.78000000e+02, 6.09793092e-01, 4.00000000e+00],\n",
       "       [1.95000000e+02, 2.46000000e+02, 6.11008741e-01, 2.00000000e+00],\n",
       "       [6.70000000e+01, 2.87000000e+02, 6.13539638e-01, 3.00000000e+00],\n",
       "       [2.07000000e+02, 2.59000000e+02, 6.16318870e-01, 3.00000000e+00],\n",
       "       [1.91000000e+02, 2.32000000e+02, 6.25981158e-01, 2.00000000e+00],\n",
       "       [2.60000000e+02, 2.81000000e+02, 6.28278729e-01, 4.00000000e+00],\n",
       "       [2.61000000e+02, 2.97000000e+02, 6.52492584e-01, 4.00000000e+00],\n",
       "       [4.80000000e+01, 5.10000000e+01, 6.61208338e-01, 2.00000000e+00],\n",
       "       [2.50000000e+01, 3.04000000e+02, 6.91228494e-01, 3.00000000e+00],\n",
       "       [1.24000000e+02, 2.70000000e+02, 7.02058646e-01, 3.00000000e+00],\n",
       "       [5.00000000e+00, 2.77000000e+02, 7.30239879e-01, 3.00000000e+00],\n",
       "       [4.00000000e+00, 1.30000000e+01, 7.31270489e-01, 2.00000000e+00],\n",
       "       [7.00000000e+00, 3.50000000e+02, 7.40539277e-01, 3.00000000e+00],\n",
       "       [1.34000000e+02, 1.40000000e+02, 7.52892317e-01, 2.00000000e+00],\n",
       "       [2.45000000e+02, 3.08000000e+02, 7.59929626e-01, 4.00000000e+00],\n",
       "       [2.00000000e+02, 2.39000000e+02, 7.59988429e-01, 2.00000000e+00],\n",
       "       [2.28000000e+02, 3.29000000e+02, 7.63937120e-01, 4.00000000e+00],\n",
       "       [2.08000000e+02, 3.07000000e+02, 7.76002322e-01, 3.00000000e+00],\n",
       "       [2.84000000e+02, 3.26000000e+02, 7.93068414e-01, 4.00000000e+00],\n",
       "       [3.00000000e+02, 3.02000000e+02, 7.96533672e-01, 4.00000000e+00],\n",
       "       [3.18000000e+02, 3.34000000e+02, 8.08513313e-01, 5.00000000e+00],\n",
       "       [2.40000000e+02, 3.69000000e+02, 8.11651272e-01, 3.00000000e+00],\n",
       "       [2.48000000e+02, 2.88000000e+02, 8.31976643e-01, 3.00000000e+00],\n",
       "       [3.17000000e+02, 3.19000000e+02, 8.42729262e-01, 6.00000000e+00],\n",
       "       [1.56000000e+02, 3.39000000e+02, 8.49216230e-01, 3.00000000e+00],\n",
       "       [2.73000000e+02, 3.13000000e+02, 8.54811481e-01, 6.00000000e+00],\n",
       "       [1.74000000e+02, 2.11000000e+02, 8.77560296e-01, 2.00000000e+00],\n",
       "       [1.32000000e+02, 3.21000000e+02, 8.78261309e-01, 3.00000000e+00],\n",
       "       [2.30000000e+01, 8.70000000e+01, 8.79934006e-01, 2.00000000e+00],\n",
       "       [3.12000000e+02, 3.27000000e+02, 8.87097508e-01, 4.00000000e+00],\n",
       "       [3.33000000e+02, 3.71000000e+02, 9.00050549e-01, 6.00000000e+00],\n",
       "       [1.09000000e+02, 1.29000000e+02, 9.02297177e-01, 2.00000000e+00],\n",
       "       [2.83000000e+02, 3.32000000e+02, 9.06038292e-01, 5.00000000e+00],\n",
       "       [2.99000000e+02, 3.37000000e+02, 9.07825084e-01, 6.00000000e+00],\n",
       "       [1.94000000e+02, 2.53000000e+02, 9.09159039e-01, 3.00000000e+00],\n",
       "       [1.60000000e+01, 3.36000000e+02, 9.37652869e-01, 4.00000000e+00],\n",
       "       [1.55000000e+02, 2.05000000e+02, 9.43661272e-01, 2.00000000e+00],\n",
       "       [1.64000000e+02, 3.46000000e+02, 9.53564235e-01, 4.00000000e+00],\n",
       "       [1.70000000e+01, 5.60000000e+01, 9.56469469e-01, 2.00000000e+00],\n",
       "       [2.31000000e+02, 3.20000000e+02, 9.66833268e-01, 3.00000000e+00],\n",
       "       [1.33000000e+02, 2.68000000e+02, 9.67201015e-01, 3.00000000e+00],\n",
       "       [7.60000000e+01, 3.77000000e+02, 9.71592700e-01, 7.00000000e+00],\n",
       "       [2.89000000e+02, 3.31000000e+02, 9.83726450e-01, 4.00000000e+00],\n",
       "       [3.25000000e+02, 3.68000000e+02, 9.87854495e-01, 6.00000000e+00],\n",
       "       [7.90000000e+01, 3.56000000e+02, 1.01206298e+00, 4.00000000e+00],\n",
       "       [1.31000000e+02, 3.83000000e+02, 1.02645957e+00, 5.00000000e+00],\n",
       "       [3.11000000e+02, 3.14000000e+02, 1.03534058e+00, 4.00000000e+00],\n",
       "       [1.01000000e+02, 1.13000000e+02, 1.04840847e+00, 2.00000000e+00],\n",
       "       [2.98000000e+02, 3.15000000e+02, 1.05924691e+00, 4.00000000e+00],\n",
       "       [1.25000000e+02, 3.43000000e+02, 1.06396572e+00, 3.00000000e+00],\n",
       "       [2.96000000e+02, 3.62000000e+02, 1.09984767e+00, 6.00000000e+00],\n",
       "       [1.20000000e+02, 1.23000000e+02, 1.11293067e+00, 2.00000000e+00],\n",
       "       [2.95000000e+02, 3.38000000e+02, 1.14474201e+00, 5.00000000e+00],\n",
       "       [2.92000000e+02, 3.54000000e+02, 1.16718461e+00, 7.00000000e+00],\n",
       "       [1.04000000e+02, 1.42000000e+02, 1.19674365e+00, 2.00000000e+00],\n",
       "       [1.86000000e+02, 3.49000000e+02, 1.19721290e+00, 5.00000000e+00],\n",
       "       [2.69000000e+02, 3.67000000e+02, 1.19741160e+00, 4.00000000e+00],\n",
       "       [0.00000000e+00, 3.66000000e+02, 1.21655981e+00, 4.00000000e+00],\n",
       "       [2.57000000e+02, 3.79000000e+02, 1.30164788e+00, 8.00000000e+00],\n",
       "       [1.81000000e+02, 3.58000000e+02, 1.30289232e+00, 3.00000000e+00],\n",
       "       [3.41000000e+02, 3.63000000e+02, 1.31949688e+00, 5.00000000e+00],\n",
       "       [3.22000000e+02, 3.61000000e+02, 1.35948412e+00, 5.00000000e+00],\n",
       "       [3.51000000e+02, 3.97000000e+02, 1.38330495e+00, 9.00000000e+00],\n",
       "       [2.01000000e+02, 3.78000000e+02, 1.40449964e+00, 4.00000000e+00],\n",
       "       [1.65000000e+02, 2.37000000e+02, 1.41657056e+00, 2.00000000e+00],\n",
       "       [1.43000000e+02, 4.03000000e+02, 1.44460971e+00, 4.00000000e+00],\n",
       "       [3.88000000e+02, 4.06000000e+02, 1.45054472e+00, 8.00000000e+00],\n",
       "       [2.29000000e+02, 3.80000000e+02, 1.45333039e+00, 3.00000000e+00],\n",
       "       [1.46000000e+02, 3.96000000e+02, 1.46668044e+00, 5.00000000e+00],\n",
       "       [6.80000000e+01, 3.82000000e+02, 1.50045634e+00, 3.00000000e+00],\n",
       "       [3.28000000e+02, 3.52000000e+02, 1.52093705e+00, 1.00000000e+01],\n",
       "       [3.45000000e+02, 3.65000000e+02, 1.54192176e+00, 5.00000000e+00],\n",
       "       [3.48000000e+02, 3.75000000e+02, 1.55968648e+00, 5.00000000e+00],\n",
       "       [3.55000000e+02, 3.90000000e+02, 1.56865267e+00, 4.00000000e+00],\n",
       "       [3.47000000e+02, 3.72000000e+02, 1.58834931e+00, 6.00000000e+00],\n",
       "       [3.53000000e+02, 3.70000000e+02, 1.61816192e+00, 8.00000000e+00],\n",
       "       [1.02000000e+02, 4.19000000e+02, 1.65971243e+00, 5.00000000e+00],\n",
       "       [3.60000000e+02, 3.98000000e+02, 1.66171251e+00, 8.00000000e+00],\n",
       "       [3.74000000e+02, 4.00000000e+02, 1.73857958e+00, 9.00000000e+00],\n",
       "       [3.42000000e+02, 3.44000000e+02, 1.75241562e+00, 8.00000000e+00],\n",
       "       [2.60000000e+01, 3.92000000e+02, 1.80026920e+00, 3.00000000e+00],\n",
       "       [3.59000000e+02, 3.89000000e+02, 1.81413254e+00, 8.00000000e+00],\n",
       "       [1.21000000e+02, 3.85000000e+02, 1.92515758e+00, 3.00000000e+00],\n",
       "       [1.00000000e+01, 4.40000000e+01, 1.95047005e+00, 2.00000000e+00],\n",
       "       [2.00000000e+01, 4.15000000e+02, 1.98137537e+00, 6.00000000e+00],\n",
       "       [2.85000000e+02, 4.18000000e+02, 1.99158511e+00, 4.00000000e+00],\n",
       "       [3.35000000e+02, 4.10000000e+02, 1.99631598e+00, 7.00000000e+00],\n",
       "       [7.80000000e+01, 4.23000000e+02, 2.05212148e+00, 4.00000000e+00],\n",
       "       [3.64000000e+02, 4.33000000e+02, 2.10516725e+00, 1.10000000e+01],\n",
       "       [9.00000000e+00, 1.20000000e+01, 2.10641180e+00, 2.00000000e+00],\n",
       "       [1.26000000e+02, 3.99000000e+02, 2.13930067e+00, 6.00000000e+00],\n",
       "       [3.40000000e+02, 4.40000000e+02, 2.16062320e+00, 9.00000000e+00],\n",
       "       [1.59000000e+02, 4.17000000e+02, 2.16901593e+00, 5.00000000e+00],\n",
       "       [3.81000000e+02, 3.86000000e+02, 2.25691472e+00, 8.00000000e+00],\n",
       "       [3.57000000e+02, 4.13000000e+02, 2.26043003e+00, 6.00000000e+00],\n",
       "       [2.34000000e+02, 3.93000000e+02, 2.27678737e+00, 4.00000000e+00],\n",
       "       [3.24000000e+02, 4.34000000e+02, 2.39825369e+00, 5.00000000e+00],\n",
       "       [3.73000000e+02, 4.20000000e+02, 2.40933086e+00, 1.20000000e+01],\n",
       "       [4.12000000e+02, 4.28000000e+02, 2.61266238e+00, 1.40000000e+01],\n",
       "       [4.08000000e+02, 4.22000000e+02, 2.61771125e+00, 7.00000000e+00],\n",
       "       [3.87000000e+02, 4.16000000e+02, 2.65855693e+00, 1.50000000e+01],\n",
       "       [4.07000000e+02, 4.25000000e+02, 2.68774615e+00, 1.20000000e+01],\n",
       "       [4.04000000e+02, 4.24000000e+02, 2.72436641e+00, 1.60000000e+01],\n",
       "       [4.01000000e+02, 4.47000000e+02, 2.80747477e+00, 1.00000000e+01],\n",
       "       [1.76000000e+02, 4.27000000e+02, 2.86358390e+00, 5.00000000e+00],\n",
       "       [4.02000000e+02, 4.31000000e+02, 2.98701292e+00, 1.20000000e+01],\n",
       "       [4.26000000e+02, 4.49000000e+02, 3.13171802e+00, 9.00000000e+00],\n",
       "       [3.84000000e+02, 4.29000000e+02, 3.16688813e+00, 1.40000000e+01],\n",
       "       [4.05000000e+02, 4.36000000e+02, 3.39917938e+00, 5.00000000e+00],\n",
       "       [3.76000000e+02, 4.39000000e+02, 3.49570561e+00, 7.00000000e+00],\n",
       "       [4.11000000e+02, 4.37000000e+02, 3.64875288e+00, 6.00000000e+00],\n",
       "       [3.94000000e+02, 4.53000000e+02, 3.65519101e+00, 1.00000000e+01],\n",
       "       [3.80000000e+01, 4.38000000e+02, 3.97283382e+00, 7.00000000e+00],\n",
       "       [8.20000000e+01, 4.50000000e+02, 4.09102957e+00, 6.00000000e+00],\n",
       "       [3.95000000e+02, 4.32000000e+02, 4.24328866e+00, 1.60000000e+01],\n",
       "       [4.14000000e+02, 4.44000000e+02, 4.28413610e+00, 1.10000000e+01],\n",
       "       [3.91000000e+02, 4.58000000e+02, 4.49398561e+00, 9.00000000e+00],\n",
       "       [4.09000000e+02, 4.52000000e+02, 4.93500425e+00, 1.90000000e+01],\n",
       "       [4.35000000e+02, 4.56000000e+02, 4.94931713e+00, 2.40000000e+01],\n",
       "       [4.21000000e+02, 4.51000000e+02, 5.04620807e+00, 1.50000000e+01],\n",
       "       [1.69000000e+02, 4.60000000e+02, 5.09058927e+00, 1.00000000e+01],\n",
       "       [4.43000000e+02, 4.59000000e+02, 5.28318331e+00, 1.40000000e+01],\n",
       "       [4.42000000e+02, 4.64000000e+02, 5.48911657e+00, 1.70000000e+01],\n",
       "       [4.46000000e+02, 4.61000000e+02, 5.77126292e+00, 1.90000000e+01],\n",
       "       [4.62000000e+02, 4.69000000e+02, 5.96471477e+00, 1.60000000e+01],\n",
       "       [4.66000000e+02, 4.68000000e+02, 6.49044422e+00, 2.30000000e+01],\n",
       "       [4.70000000e+02, 4.73000000e+02, 6.58584770e+00, 2.40000000e+01],\n",
       "       [4.48000000e+02, 4.77000000e+02, 6.71101389e+00, 2.50000000e+01],\n",
       "       [4.63000000e+02, 4.71000000e+02, 6.93753275e+00, 2.60000000e+01],\n",
       "       [4.57000000e+02, 4.65000000e+02, 6.94628661e+00, 2.00000000e+01],\n",
       "       [4.41000000e+02, 4.79000000e+02, 7.50920078e+00, 2.70000000e+01],\n",
       "       [4.55000000e+02, 4.72000000e+02, 7.97673091e+00, 3.60000000e+01],\n",
       "       [4.67000000e+02, 4.75000000e+02, 8.49263716e+00, 2.00000000e+01],\n",
       "       [4.54000000e+02, 4.82000000e+02, 9.08243715e+00, 4.10000000e+01],\n",
       "       [4.30000000e+02, 4.45000000e+02, 9.11452718e+00, 1.40000000e+01],\n",
       "       [4.76000000e+02, 4.85000000e+02, 1.32304693e+01, 5.30000000e+01],\n",
       "       [4.78000000e+02, 4.83000000e+02, 1.32938678e+01, 3.60000000e+01],\n",
       "       [4.74000000e+02, 4.87000000e+02, 1.42817369e+01, 5.10000000e+01],\n",
       "       [4.81000000e+02, 4.91000000e+02, 1.56788380e+01, 7.60000000e+01],\n",
       "       [4.86000000e+02, 4.89000000e+02, 1.59663672e+01, 7.30000000e+01],\n",
       "       [4.88000000e+02, 4.90000000e+02, 1.72657661e+01, 5.00000000e+01],\n",
       "       [4.80000000e+02, 4.92000000e+02, 2.35682150e+01, 1.00000000e+02],\n",
       "       [4.84000000e+02, 4.93000000e+02, 2.38857430e+01, 1.00000000e+02],\n",
       "       [4.94000000e+02, 4.95000000e+02, 8.49736809e+01, 1.50000000e+02],\n",
       "       [4.96000000e+02, 4.97000000e+02, 2.25130980e+02, 2.50000000e+02]])"
      ]
     },
     "execution_count": 120,
     "metadata": {},
     "output_type": "execute_result"
    }
   ],
   "source": [
    "shc1"
   ]
  },
  {
   "cell_type": "markdown",
   "metadata": {},
   "source": [
    "### 12. Plot the dendrogram for the consolidated dataframe"
   ]
  },
  {
   "cell_type": "code",
   "execution_count": 119,
   "metadata": {},
   "outputs": [
    {
     "data": {
      "image/png": "[encoded data removed]",
      "text/plain": [
       "<Figure size 720x504 with 1 Axes>"
      ]
     },
     "metadata": {
      "needs_background": "light"
     },
     "output_type": "display_data"
    }
   ],
   "source": [
    "plt.figure(figsize=(10,7))\n",
    "plt.title('Dendogram')\n",
    "dend = shc.dendrogram(shc1)"
   ]
  },
  {
   "cell_type": "markdown",
   "metadata": {},
   "source": [
    "### 13. Recreate the dendrogram for last 12 merged clusters "
   ]
  },
  {
   "cell_type": "code",
   "execution_count": 128,
   "metadata": {},
   "outputs": [
    {
     "data": {
      "image/png": "[encoded data removed]",
      "text/plain": [
       "<Figure size 720x504 with 1 Axes>"
      ]
     },
     "metadata": {},
     "output_type": "display_data"
    }
   ],
   "source": [
    "plt.figure(figsize=(10,7))\n",
    "plt.title('Dendogram')\n",
    "dend = shc.dendrogram(shc1, truncate_mode='lastp', p=12)"
   ]
  },
  {
   "cell_type": "markdown",
   "metadata": {},
   "source": [
    "Hint: Use truncate_mode='lastp' attribute in dendrogram function to arrive at dendrogram "
   ]
  },
  {
   "cell_type": "markdown",
   "metadata": {},
   "source": [
    "### 14. Using this distance measure and AgglomerativeClustering() function to cluster the data into 3 different groups"
   ]
  },
  {
   "cell_type": "code",
   "execution_count": 122,
   "metadata": {},
   "outputs": [],
   "source": [
    "from sklearn.cluster import AgglomerativeClustering\n",
    "ac = AgglomerativeClustering(n_clusters=3)"
   ]
  },
  {
   "cell_type": "code",
   "execution_count": 124,
   "metadata": {},
   "outputs": [],
   "source": [
    "final_df['Cluster_3'] = ac.fit_predict(final_df.values)"
   ]
  },
  {
   "cell_type": "code",
   "execution_count": 127,
   "metadata": {},
   "outputs": [
    {
     "data": {
      "text/plain": [
       "1    100\n",
       "0    100\n",
       "2     50\n",
       "Name: Cluster_3, dtype: int64"
      ]
     },
     "execution_count": 127,
     "metadata": {},
     "output_type": "execute_result"
    }
   ],
   "source": [
    "final_df['Cluster_3'].value_counts()"
   ]
  },
  {
   "cell_type": "markdown",
   "metadata": {},
   "source": [
    "### 15. Use matplotlib to visually observe the clusters in 2D space "
   ]
  },
  {
   "cell_type": "code",
   "execution_count": 126,
   "metadata": {},
   "outputs": [
    {
     "data": {
      "text/plain": [
       "<matplotlib.axes._subplots.AxesSubplot at 0x22da90a56d8>"
      ]
     },
     "execution_count": 126,
     "metadata": {},
     "output_type": "execute_result"
    },
    {
     "data": {
      "image/png": "[encoded data removed]",
      "text/plain": [
       "<Figure size 410.4x307.44 with 1 Axes>"
      ]
     },
     "metadata": {},
     "output_type": "display_data"
    }
   ],
   "source": [
    "sns.set(rc={'figure.figsize':(5.7,4.27)})\n",
    "sns.scatterplot(x=final_df[0], y=final_df[1], hue=final_df['Cluster_3'])"
   ]
  },
  {
   "cell_type": "code",
   "execution_count": null,
   "metadata": {},
   "outputs": [],
   "source": []
  }
 ],
 "metadata": {
  "kernelspec": {
   "display_name": "Python 3",
   "language": "python",
   "name": "python3"
  },
  "language_info": {
   "codemirror_mode": {
    "name": "ipython",
    "version": 3
   },
   "file_extension": ".py",
   "mimetype": "text/x-python",
   "name": "python",
   "nbconvert_exporter": "python",
   "pygments_lexer": "ipython3",
   "version": "3.7.3"
  }
 },
 "nbformat": 4,
 "nbformat_minor": 2
}
